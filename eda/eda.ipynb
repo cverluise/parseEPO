{
 "cells": [
  {
   "cell_type": "code",
   "execution_count": 1,
   "metadata": {},
   "outputs": [],
   "source": [
    "%load_ext autoreload\n",
    "%autoreload 2"
   ]
  },
  {
   "cell_type": "code",
   "execution_count": 2,
   "metadata": {
    "pycharm": {
     "is_executing": false
    }
   },
   "outputs": [],
   "source": [
    "from google.cloud import bigquery as bq\n",
    "from google.oauth2 import service_account\n",
    "\n",
    "import pandas as pd\n",
    "import plotly.graph_objects as go\n",
    "import json\n",
    "\n",
    "import queries\n",
    "import utils"
   ]
  },
  {
   "cell_type": "markdown",
   "metadata": {},
   "source": [
    "# Config "
   ]
  },
  {
   "cell_type": "code",
   "execution_count": 3,
   "metadata": {},
   "outputs": [],
   "source": [
    "config = json.load(open(\"config.json\", \"r\"))\n",
    "credentials = config[\"credentials\"]\n",
    "project = config[\"project_id\"]\n",
    "dataset = config[\"dataset_id\"]\n",
    "credentials = service_account.Credentials.from_service_account_file(\n",
    "            credentials,\n",
    "            scopes=[\"https://www.googleapis.com/auth/cloud-platform\"])\n"
   ]
  },
  {
   "cell_type": "code",
   "execution_count": 4,
   "metadata": {
    "pycharm": {
     "name": "#%%\n"
    }
   },
   "outputs": [],
   "source": [
    "client = bq.Client(project=project,\n",
    "                  credentials=credentials)"
   ]
  },
  {
   "cell_type": "markdown",
   "metadata": {},
   "source": [
    "# Stat desc EPO full text data"
   ]
  },
  {
   "cell_type": "markdown",
   "metadata": {},
   "source": [
    "[parseEPO]:(https://cverluise.github.io/parseEPO/)\n",
    "This analysis is based on the EPO \"full-text data for text analytics dataset\". \n",
    "\n",
    "After a bit of processing (see [parseEPO][parseEPO]), we are able to load it in a BigQuery table (`<project>.<dataset>.full_text`). \n",
    "\n",
    "<details>\n",
    "    \n",
    "<b>BQ EPO full text table schema </b>:    \n",
    "   \n",
    "|Field name\t|Type\t|Mode\t|Description|\n",
    "|---|---|---|---|    \n",
    "|publication_number\t|STRING\t|NULLABLE\t|DOCDB publication number|\n",
    "|publication_date\t|DATE\t|NULLABLE\t|Publication date of the EP patent|\n",
    "|url\t|RECORD\t|NULLABLE\t|Url link to the pdf of the EP patent|\n",
    "|url. language|\tSTRING\t|NULLABLE\t|Language of the pdf|\n",
    "|url. text\t|STRING\t|NULLABLE|\tUrl|\n",
    "|title\t|RECORD\t|NULLABLE\t|Title of the patent|\n",
    "|title. language|\tSTRING|\tREPEATED|\tTitle language|\n",
    "|title. text|\tSTRING|\tREPEATED|\tLocalized title|\n",
    "|abstract|\tRECORD|\tNULLABLE|\tAbstract of the patent|\n",
    "|abstract. language|\tSTRING|\tNULLABLE|\tAbstract language|\n",
    "|abstract. text|\tSTRING|\tNULLABLE|\tLocalized abstract|\n",
    "|description|\tRECORD|\tNULLABLE|\tDescription of the patent|\n",
    "|description. language|\tSTRING|\tNULLABLE|\tLanguage of the description|\n",
    "|description. text|\tSTRING|\tNULLABLE|\tLocalized description|\n",
    "|claims|\tRECORD|\tNULLABLE|\tClaims| of patent|\n",
    "|claims. language|\tSTRING|\tREPEATED|\tClaims language|\n",
    "|claims. text|\tSTRING|\tREPEATED|\tLocalized claims|\n",
    "|amendment|\tRECORD|\tNULLABLE|\tAmendments|\n",
    "|amendment. language|\tSTRING|\tREPEATED|\tAmendments language|\n",
    "|amendment. text|\tSTRING|\tREPEATED|\tLocalized amendments|\n",
    "    \n",
    "</details>    "
   ]
  },
  {
   "cell_type": "markdown",
   "metadata": {},
   "source": [
    "The `full_text` table is relatively large due to full-text data. We create an intermediary table with high-level descriptive statistics which is much lighter (`epo_fulltext_desc`). Hence, we can investigate descriptive statistics relative to the dataset without any budget risk.\n",
    "\n",
    "**`epo_fulltext_desc` preview**\n",
    "\n",
    "|family_id|publication_number|publication_date|has_title|title_language|has_abstract|abstract_language|has_description|description_language|has_claims|claims_language|has_amendment|amendment_language|has_url|url_language|\t\n",
    "|---|---|---|---|---|---|---|---|---|---|---|---|---|---|---|\n",
    "|41351794|EP-2462853-A2|2012-06-13|true|de|true|it|true|it|true|en|false|true|it|"
   ]
  },
  {
   "cell_type": "code",
   "execution_count": 5,
   "metadata": {},
   "outputs": [
    {
     "name": "stdout",
     "output_type": "stream",
     "text": [
      "\u001b[38;5;3m⚠ JOB ERROR: duplicate. This kind of error is usually raised when the\n",
      "destination table already exists. If you want to replace the table, execute the\n",
      "same function with job_config.write_disposition='WRITE_TRUNCATE'. The query will\n",
      "process 229Gb. Otherwise, just use the existing target table. table.\u001b[0m\n"
     ]
    }
   ],
   "source": [
    "destination = client.dataset(dataset).table(\"epo_fulltext_desc\")\n",
    "job_config = bq.QueryJobConfig(destination=destination)\n",
    "job = queries.safe_query(queries.query_epo_desc_table(f\"{project}.{dataset}.full_text\"), \n",
    "             client, \n",
    "             job_config=job_config)\n",
    "\n",
    "# safe_query is asimple wrapper for BQ jobs. It returns an Error message when the destination table defined \n",
    "# in job_config already exists and does not execute the query.\n",
    "# The goal is to avoid large queries generating tables which _already_ exist"
   ]
  },
  {
   "cell_type": "markdown",
   "metadata": {},
   "source": [
    "## EP data over time"
   ]
  },
  {
   "cell_type": "code",
   "execution_count": 6,
   "metadata": {},
   "outputs": [],
   "source": [
    "df_famid = client.query(queries.query_nb_famid_epo(f\"{project}.{dataset}.epo_fulltext_desc\")).to_dataframe()\n",
    "df_pubnum = client.query(queries.query_nb_pubnum_epo(f\"{project}.{dataset}.epo_fulltext_desc\")).to_dataframe()"
   ]
  },
  {
   "cell_type": "code",
   "execution_count": 7,
   "metadata": {},
   "outputs": [],
   "source": [
    "fig = utils.plot_series(pd.merge(df_famid, df_pubnum, on=\"year\").set_index(\"year\"))\n",
    "fig.write_image(\"plots/nb_famid_pubnum_epo.png\")"
   ]
  },
  {
   "cell_type": "markdown",
   "metadata": {},
   "source": [
    "![](plots/nb_famid_pubnum_epo.png)"
   ]
  },
  {
   "cell_type": "code",
   "execution_count": 37,
   "metadata": {},
   "outputs": [
    {
     "name": "stdout",
     "output_type": "stream",
     "text": [
      "Nb pubnum: 5938057\n",
      "Nb famid: 3285768\n"
     ]
    }
   ],
   "source": [
    "print(\"Nb pubnum:\", df_pubnum.sum()[\"nb_pubnum\"])\n",
    "print(\"Nb famid:\", df_famid.sum()[\"nb_family\"])"
   ]
  },
  {
   "cell_type": "markdown",
   "metadata": {},
   "source": [
    "## EP full text data coverage"
   ]
  },
  {
   "cell_type": "markdown",
   "metadata": {},
   "source": [
    "> We work at the family level\n",
    "> - A family is assigned to the year of it first appearance in the EP full text-patent dataset. This date migt differ from the priority year\n",
    "> - A family `has_*` **True** if at least one of the patents in the family has a `*` (e.g. `*`= `abstract`)"
   ]
  },
  {
   "cell_type": "markdown",
   "metadata": {},
   "source": [
    "### Family level - non null data - all languages"
   ]
  },
  {
   "cell_type": "markdown",
   "metadata": {},
   "source": [
    "> We consider all languages (en, fr, de, it)"
   ]
  },
  {
   "cell_type": "code",
   "execution_count": 8,
   "metadata": {},
   "outputs": [],
   "source": [
    "# Number of families by year of 1st apperance in EP with text data \n",
    "query = queries.query_nb_full_text_epo(f\"{project}.{dataset}.epo_fulltext_desc\")\n",
    "df_desc_epo = client.query(query).to_dataframe()"
   ]
  },
  {
   "cell_type": "code",
   "execution_count": 9,
   "metadata": {},
   "outputs": [],
   "source": [
    "# Number of families by year of 1st apperance in EP\n",
    "query = queries.query_nb_famid_epo(f\"{project}.{dataset}.epo_fulltext_desc\")\n",
    "df_nb_famid_epo = client.query(query).to_dataframe()"
   ]
  },
  {
   "cell_type": "code",
   "execution_count": 10,
   "metadata": {},
   "outputs": [],
   "source": [
    "# Share of family with text data, by year\n",
    "df = pd.merge(df_desc_epo, df_nb_famid_epo, on=\"year\").set_index(\"year\")\n",
    "for var in df.filter(regex=\"has\").columns:\n",
    "    df[var.replace(\"nb\", \"share\")]=df[var]/df[\"nb_family\"]"
   ]
  },
  {
   "cell_type": "code",
   "execution_count": 11,
   "metadata": {},
   "outputs": [],
   "source": [
    "for v in [\"share\", \"nb\"]:\n",
    "    fig = utils.plot_series(df.filter(regex=v))\n",
    "    fig.write_image(f\"plots/{v}_fulltext_epo.png\")"
   ]
  },
  {
   "cell_type": "markdown",
   "metadata": {},
   "source": [
    "Nb of families with text data | Share of families with text data \n",
    ":-------------------------:|:-------------------------:\n",
    "![](./plots/nb_fulltext_epo.png)  |  ![](./plots/share_fulltext_epo.png)"
   ]
  },
  {
   "cell_type": "code",
   "execution_count": 12,
   "metadata": {
    "scrolled": true
   },
   "outputs": [
    {
     "data": {
      "text/html": [
       "<div>\n",
       "<style scoped>\n",
       "    .dataframe tbody tr th:only-of-type {\n",
       "        vertical-align: middle;\n",
       "    }\n",
       "\n",
       "    .dataframe tbody tr th {\n",
       "        vertical-align: top;\n",
       "    }\n",
       "\n",
       "    .dataframe thead th {\n",
       "        text-align: right;\n",
       "    }\n",
       "</style>\n",
       "<table border=\"1\" class=\"dataframe\">\n",
       "  <thead>\n",
       "    <tr style=\"text-align: right;\">\n",
       "      <th></th>\n",
       "      <th>share_has_title</th>\n",
       "      <th>share_has_abstract</th>\n",
       "      <th>share_has_description</th>\n",
       "      <th>share_has_claims</th>\n",
       "      <th>share_has_amendment</th>\n",
       "      <th>share_has_url</th>\n",
       "    </tr>\n",
       "  </thead>\n",
       "  <tbody>\n",
       "    <tr>\n",
       "      <th>1978-2019</th>\n",
       "      <td>0.6</td>\n",
       "      <td>0.2</td>\n",
       "      <td>0.33</td>\n",
       "      <td>0.33</td>\n",
       "      <td>0.0</td>\n",
       "      <td>0.41</td>\n",
       "    </tr>\n",
       "  </tbody>\n",
       "</table>\n",
       "</div>"
      ],
      "text/plain": [
       "           share_has_title  share_has_abstract  share_has_description  \\\n",
       "1978-2019              0.6                 0.2                   0.33   \n",
       "\n",
       "           share_has_claims  share_has_amendment  share_has_url  \n",
       "1978-2019              0.33                  0.0           0.41  "
      ]
     },
     "execution_count": 12,
     "metadata": {},
     "output_type": "execute_result"
    }
   ],
   "source": [
    "# All time aggregate\n",
    "tmp = df.sum()\n",
    "out = {\"1978-2019\":{}}\n",
    "for var in df.filter(regex=\"nb_has\").columns:\n",
    "    share = round(tmp[var]/tmp[\"nb_family\"], 2)\n",
    "    out[\"1978-2019\"].update({var.replace(\"nb\", \"share\"): share})\n",
    "pd.DataFrame.from_dict(out, orient='index')"
   ]
  },
  {
   "cell_type": "markdown",
   "metadata": {},
   "source": [
    "### Family level - non null data - english only"
   ]
  },
  {
   "cell_type": "markdown",
   "metadata": {},
   "source": [
    "> We restrict to english only (en)"
   ]
  },
  {
   "cell_type": "code",
   "execution_count": 13,
   "metadata": {},
   "outputs": [],
   "source": [
    "query = queries.query_nb_full_text_epo(f\"{project}.{dataset}.epo_fulltext_desc\",\n",
    "                                      english_bool=True)\n",
    "df_desc_epo_en = client.query(query).to_dataframe()"
   ]
  },
  {
   "cell_type": "code",
   "execution_count": 14,
   "metadata": {},
   "outputs": [],
   "source": [
    "df_en = pd.merge(df_desc_epo_en, df_nb_famid_epo, on=\"year\").set_index(\"year\")\n",
    "for var in df_en.filter(regex=\"has\").columns:\n",
    "    df_en[var.replace(\"nb\", \"share\")]=df_en[var]/df_en[\"nb_family\"]"
   ]
  },
  {
   "cell_type": "code",
   "execution_count": 15,
   "metadata": {},
   "outputs": [],
   "source": [
    "for v in [\"share\", \"nb\"]:\n",
    "    fig = utils.plot_series(df_en.filter(regex=v))\n",
    "    fig.write_image(f\"plots/{v}_fulltext_epo_en.png\")"
   ]
  },
  {
   "cell_type": "markdown",
   "metadata": {},
   "source": [
    "Nb of families with text data | Share of families with text data \n",
    ":-------------------------:|:-------------------------:\n",
    "![](./plots/nb_fulltext_epo_en.png)  |  ![](./plots/share_fulltext_epo_en.png)"
   ]
  },
  {
   "cell_type": "code",
   "execution_count": 16,
   "metadata": {
    "scrolled": true
   },
   "outputs": [
    {
     "data": {
      "text/html": [
       "<div>\n",
       "<style scoped>\n",
       "    .dataframe tbody tr th:only-of-type {\n",
       "        vertical-align: middle;\n",
       "    }\n",
       "\n",
       "    .dataframe tbody tr th {\n",
       "        vertical-align: top;\n",
       "    }\n",
       "\n",
       "    .dataframe thead th {\n",
       "        text-align: right;\n",
       "    }\n",
       "</style>\n",
       "<table border=\"1\" class=\"dataframe\">\n",
       "  <thead>\n",
       "    <tr style=\"text-align: right;\">\n",
       "      <th></th>\n",
       "      <th>share_has_title</th>\n",
       "      <th>share_has_abstract</th>\n",
       "      <th>share_has_description</th>\n",
       "      <th>share_has_claims</th>\n",
       "      <th>share_has_amendment</th>\n",
       "      <th>share_has_url</th>\n",
       "    </tr>\n",
       "  </thead>\n",
       "  <tbody>\n",
       "    <tr>\n",
       "      <th>1978-2019</th>\n",
       "      <td>0.22</td>\n",
       "      <td>0.02</td>\n",
       "      <td>0.22</td>\n",
       "      <td>0.22</td>\n",
       "      <td>0.0</td>\n",
       "      <td>0.22</td>\n",
       "    </tr>\n",
       "  </tbody>\n",
       "</table>\n",
       "</div>"
      ],
      "text/plain": [
       "           share_has_title  share_has_abstract  share_has_description  \\\n",
       "1978-2019             0.22                0.02                   0.22   \n",
       "\n",
       "           share_has_claims  share_has_amendment  share_has_url  \n",
       "1978-2019              0.22                  0.0           0.22  "
      ]
     },
     "execution_count": 16,
     "metadata": {},
     "output_type": "execute_result"
    }
   ],
   "source": [
    "# All time aggregate - en only\n",
    "tmp = df_en.sum()\n",
    "out = {\"1978-2019\":{}}\n",
    "for var in df_en.filter(regex=\"nb_has\").columns:\n",
    "    share = round(tmp[var]/tmp[\"nb_family\"], 2)\n",
    "    out[\"1978-2019\"].update({var.replace(\"nb\", \"share\"): share})\n",
    "pd.DataFrame.from_dict(out, orient='index')    "
   ]
  },
  {
   "cell_type": "markdown",
   "metadata": {},
   "source": [
    "**Baseline: 22% of patent families in the EPO full text database have an english description.**"
   ]
  },
  {
   "cell_type": "markdown",
   "metadata": {},
   "source": [
    "# Wordlwide coverage"
   ]
  },
  {
   "cell_type": "markdown",
   "metadata": {},
   "source": [
    "Patents which are in the same (simple) family have the same text components. This means that any patent text can be propagated to all patents in the same family. Thanks to that, EP (resp US) full text data can cover patents well beyond the EP (resp US) office. \n",
    "\n",
    "Next, we look at the implicit worldwide coverage of EP and US full-text patents."
   ]
  },
  {
   "cell_type": "markdown",
   "metadata": {},
   "source": [
    "> We focus on the description - all languages"
   ]
  },
  {
   "cell_type": "markdown",
   "metadata": {},
   "source": [
    "## EP full-text data"
   ]
  },
  {
   "cell_type": "code",
   "execution_count": 17,
   "metadata": {},
   "outputs": [],
   "source": [
    "query = queries.query_nb_fam_with_desc_from_epo(f\"{project}.{dataset}.epo_fulltext_desc\")\n",
    "df_num = client.query(query).to_dataframe()"
   ]
  },
  {
   "cell_type": "code",
   "execution_count": 18,
   "metadata": {},
   "outputs": [],
   "source": [
    "query = queries.query_nb_fam_cnt_yr\n",
    "df_denom = client.query(query).to_dataframe()"
   ]
  },
  {
   "cell_type": "code",
   "execution_count": 19,
   "metadata": {},
   "outputs": [],
   "source": [
    "df_coverage_epo = utils.compute_coverage(df_num, df_denom)\n",
    "# Note: the mean_coverage is just a mean of mean - ie, all years are equally weighted"
   ]
  },
  {
   "cell_type": "code",
   "execution_count": 20,
   "metadata": {},
   "outputs": [
    {
     "data": {
      "text/html": [
       "<div>\n",
       "<style scoped>\n",
       "    .dataframe tbody tr th:only-of-type {\n",
       "        vertical-align: middle;\n",
       "    }\n",
       "\n",
       "    .dataframe tbody tr th {\n",
       "        vertical-align: top;\n",
       "    }\n",
       "\n",
       "    .dataframe thead th {\n",
       "        text-align: right;\n",
       "    }\n",
       "</style>\n",
       "<table border=\"1\" class=\"dataframe\">\n",
       "  <thead>\n",
       "    <tr style=\"text-align: right;\">\n",
       "      <th>year</th>\n",
       "      <th>1978</th>\n",
       "      <th>1979</th>\n",
       "      <th>1980</th>\n",
       "      <th>1981</th>\n",
       "      <th>1982</th>\n",
       "      <th>1983</th>\n",
       "      <th>1984</th>\n",
       "      <th>1985</th>\n",
       "      <th>1986</th>\n",
       "      <th>1987</th>\n",
       "      <th>...</th>\n",
       "      <th>2011</th>\n",
       "      <th>2012</th>\n",
       "      <th>2013</th>\n",
       "      <th>2014</th>\n",
       "      <th>2015</th>\n",
       "      <th>2016</th>\n",
       "      <th>2017</th>\n",
       "      <th>2018</th>\n",
       "      <th>2019</th>\n",
       "      <th>mean_coverage</th>\n",
       "    </tr>\n",
       "    <tr>\n",
       "      <th>country_code</th>\n",
       "      <th></th>\n",
       "      <th></th>\n",
       "      <th></th>\n",
       "      <th></th>\n",
       "      <th></th>\n",
       "      <th></th>\n",
       "      <th></th>\n",
       "      <th></th>\n",
       "      <th></th>\n",
       "      <th></th>\n",
       "      <th></th>\n",
       "      <th></th>\n",
       "      <th></th>\n",
       "      <th></th>\n",
       "      <th></th>\n",
       "      <th></th>\n",
       "      <th></th>\n",
       "      <th></th>\n",
       "      <th></th>\n",
       "      <th></th>\n",
       "      <th></th>\n",
       "    </tr>\n",
       "  </thead>\n",
       "  <tbody>\n",
       "    <tr>\n",
       "      <th>PT</th>\n",
       "      <td>0.050317</td>\n",
       "      <td>0.182222</td>\n",
       "      <td>0.359126</td>\n",
       "      <td>0.399038</td>\n",
       "      <td>0.431576</td>\n",
       "      <td>0.471735</td>\n",
       "      <td>0.478189</td>\n",
       "      <td>0.490744</td>\n",
       "      <td>0.466362</td>\n",
       "      <td>0.513210</td>\n",
       "      <td>...</td>\n",
       "      <td>0.458034</td>\n",
       "      <td>0.503116</td>\n",
       "      <td>0.487617</td>\n",
       "      <td>0.499735</td>\n",
       "      <td>0.488795</td>\n",
       "      <td>0.476820</td>\n",
       "      <td>0.491869</td>\n",
       "      <td>0.499468</td>\n",
       "      <td>0.417541</td>\n",
       "      <td>0.438721</td>\n",
       "    </tr>\n",
       "    <tr>\n",
       "      <th>EP</th>\n",
       "      <td>0.794643</td>\n",
       "      <td>0.758818</td>\n",
       "      <td>0.705703</td>\n",
       "      <td>0.701681</td>\n",
       "      <td>0.707730</td>\n",
       "      <td>0.725521</td>\n",
       "      <td>0.719600</td>\n",
       "      <td>0.717313</td>\n",
       "      <td>0.708447</td>\n",
       "      <td>0.685287</td>\n",
       "      <td>...</td>\n",
       "      <td>0.417305</td>\n",
       "      <td>0.405435</td>\n",
       "      <td>0.393628</td>\n",
       "      <td>0.382566</td>\n",
       "      <td>0.359637</td>\n",
       "      <td>0.344194</td>\n",
       "      <td>0.309729</td>\n",
       "      <td>0.273310</td>\n",
       "      <td>0.169127</td>\n",
       "      <td>0.525174</td>\n",
       "    </tr>\n",
       "  </tbody>\n",
       "</table>\n",
       "<p>2 rows × 43 columns</p>\n",
       "</div>"
      ],
      "text/plain": [
       "year              1978      1979      1980      1981      1982      1983  \\\n",
       "country_code                                                               \n",
       "PT            0.050317  0.182222  0.359126  0.399038  0.431576  0.471735   \n",
       "EP            0.794643  0.758818  0.705703  0.701681  0.707730  0.725521   \n",
       "\n",
       "year              1984      1985      1986      1987  ...      2011      2012  \\\n",
       "country_code                                          ...                       \n",
       "PT            0.478189  0.490744  0.466362  0.513210  ...  0.458034  0.503116   \n",
       "EP            0.719600  0.717313  0.708447  0.685287  ...  0.417305  0.405435   \n",
       "\n",
       "year              2013      2014      2015      2016      2017      2018  \\\n",
       "country_code                                                               \n",
       "PT            0.487617  0.499735  0.488795  0.476820  0.491869  0.499468   \n",
       "EP            0.393628  0.382566  0.359637  0.344194  0.309729  0.273310   \n",
       "\n",
       "year              2019  mean_coverage  \n",
       "country_code                           \n",
       "PT            0.417541       0.438721  \n",
       "EP            0.169127       0.525174  \n",
       "\n",
       "[2 rows x 43 columns]"
      ]
     },
     "execution_count": 20,
     "metadata": {},
     "output_type": "execute_result"
    }
   ],
   "source": [
    "df_coverage_epo.tail(2)"
   ]
  },
  {
   "cell_type": "code",
   "execution_count": 21,
   "metadata": {},
   "outputs": [],
   "source": [
    "fig = utils.plot_heatmap(df_coverage_epo.iloc[-15:, :-1]) # we focus on the top 15 and we skip the mean_coverage\n",
    "fig.write_image(\"plots/coverage_epo.png\")"
   ]
  },
  {
   "cell_type": "markdown",
   "metadata": {},
   "source": [
    "![](plots/coverage_epo.png)"
   ]
  },
  {
   "cell_type": "code",
   "execution_count": 22,
   "metadata": {},
   "outputs": [],
   "source": [
    "fig = utils.plot_bars(df_coverage_epo.reset_index().iloc[-30:,:])\n",
    "fig.write_image(\"plots/mean_coverage_epo.png\")\n",
    "# Note: just a mean of mean."
   ]
  },
  {
   "cell_type": "markdown",
   "metadata": {},
   "source": [
    "## BigQuery patents-public-data full text data"
   ]
  },
  {
   "cell_type": "code",
   "execution_count": 23,
   "metadata": {},
   "outputs": [
    {
     "name": "stdout",
     "output_type": "stream",
     "text": [
      "\u001b[38;5;3m⚠ JOB ERROR: duplicate. This kind of error is usually raised when the\n",
      "destination table already exists. If you want to replace the table, execute the\n",
      "same function with job_config.write_disposition='WRITE_TRUNCATE'. The query will\n",
      "process 733Gb. Otherwise, just use the existing target table. table.\u001b[0m\n"
     ]
    }
   ],
   "source": [
    "destination = client.dataset(dataset).table(\"nonepo_fulltext_famid\")\n",
    "job_config = bq.QueryJobConfig(destination=destination)\n",
    "job = queries.safe_query(queries.query_famid_nonepo, \n",
    "             client, \n",
    "             job_config=job_config)"
   ]
  },
  {
   "cell_type": "code",
   "execution_count": 24,
   "metadata": {},
   "outputs": [],
   "source": [
    "query = queries.query_nb_fam_with_desc_from_nonepo(f\"{project}.{dataset}.nonepo_fulltext_famid\")\n",
    "df_num = client.query(query).to_dataframe()"
   ]
  },
  {
   "cell_type": "code",
   "execution_count": 25,
   "metadata": {},
   "outputs": [],
   "source": [
    "df_coverage_nonepo = utils.compute_coverage(df_num, df_denom)"
   ]
  },
  {
   "cell_type": "code",
   "execution_count": 26,
   "metadata": {
    "scrolled": false
   },
   "outputs": [
    {
     "data": {
      "text/html": [
       "<div>\n",
       "<style scoped>\n",
       "    .dataframe tbody tr th:only-of-type {\n",
       "        vertical-align: middle;\n",
       "    }\n",
       "\n",
       "    .dataframe tbody tr th {\n",
       "        vertical-align: top;\n",
       "    }\n",
       "\n",
       "    .dataframe thead th {\n",
       "        text-align: right;\n",
       "    }\n",
       "</style>\n",
       "<table border=\"1\" class=\"dataframe\">\n",
       "  <thead>\n",
       "    <tr style=\"text-align: right;\">\n",
       "      <th>year</th>\n",
       "      <th>1978</th>\n",
       "      <th>1979</th>\n",
       "      <th>1980</th>\n",
       "      <th>1981</th>\n",
       "      <th>1982</th>\n",
       "      <th>1983</th>\n",
       "      <th>1984</th>\n",
       "      <th>1985</th>\n",
       "      <th>1986</th>\n",
       "      <th>1987</th>\n",
       "      <th>...</th>\n",
       "      <th>2011</th>\n",
       "      <th>2012</th>\n",
       "      <th>2013</th>\n",
       "      <th>2014</th>\n",
       "      <th>2015</th>\n",
       "      <th>2016</th>\n",
       "      <th>2017</th>\n",
       "      <th>2018</th>\n",
       "      <th>2019</th>\n",
       "      <th>mean_coverage</th>\n",
       "    </tr>\n",
       "    <tr>\n",
       "      <th>country_code</th>\n",
       "      <th></th>\n",
       "      <th></th>\n",
       "      <th></th>\n",
       "      <th></th>\n",
       "      <th></th>\n",
       "      <th></th>\n",
       "      <th></th>\n",
       "      <th></th>\n",
       "      <th></th>\n",
       "      <th></th>\n",
       "      <th></th>\n",
       "      <th></th>\n",
       "      <th></th>\n",
       "      <th></th>\n",
       "      <th></th>\n",
       "      <th></th>\n",
       "      <th></th>\n",
       "      <th></th>\n",
       "      <th></th>\n",
       "      <th></th>\n",
       "      <th></th>\n",
       "    </tr>\n",
       "  </thead>\n",
       "  <tbody>\n",
       "    <tr>\n",
       "      <th>CA</th>\n",
       "      <td>0.635405</td>\n",
       "      <td>0.648613</td>\n",
       "      <td>0.653665</td>\n",
       "      <td>0.655862</td>\n",
       "      <td>0.658823</td>\n",
       "      <td>0.654687</td>\n",
       "      <td>0.658533</td>\n",
       "      <td>0.668010</td>\n",
       "      <td>0.666255</td>\n",
       "      <td>0.678527</td>\n",
       "      <td>...</td>\n",
       "      <td>0.869699</td>\n",
       "      <td>0.871182</td>\n",
       "      <td>0.871803</td>\n",
       "      <td>0.872161</td>\n",
       "      <td>0.878359</td>\n",
       "      <td>0.880573</td>\n",
       "      <td>0.855718</td>\n",
       "      <td>0.75079</td>\n",
       "      <td>0.807615</td>\n",
       "      <td>0.756748</td>\n",
       "    </tr>\n",
       "    <tr>\n",
       "      <th>US</th>\n",
       "      <td>0.998488</td>\n",
       "      <td>0.998018</td>\n",
       "      <td>0.999131</td>\n",
       "      <td>0.999152</td>\n",
       "      <td>0.999054</td>\n",
       "      <td>0.998850</td>\n",
       "      <td>0.998920</td>\n",
       "      <td>0.999223</td>\n",
       "      <td>0.999496</td>\n",
       "      <td>0.999496</td>\n",
       "      <td>...</td>\n",
       "      <td>1.000000</td>\n",
       "      <td>1.000000</td>\n",
       "      <td>1.000000</td>\n",
       "      <td>1.000000</td>\n",
       "      <td>1.000000</td>\n",
       "      <td>0.999998</td>\n",
       "      <td>1.000000</td>\n",
       "      <td>1.00000</td>\n",
       "      <td>1.000000</td>\n",
       "      <td>0.999718</td>\n",
       "    </tr>\n",
       "  </tbody>\n",
       "</table>\n",
       "<p>2 rows × 43 columns</p>\n",
       "</div>"
      ],
      "text/plain": [
       "year              1978      1979      1980      1981      1982      1983  \\\n",
       "country_code                                                               \n",
       "CA            0.635405  0.648613  0.653665  0.655862  0.658823  0.654687   \n",
       "US            0.998488  0.998018  0.999131  0.999152  0.999054  0.998850   \n",
       "\n",
       "year              1984      1985      1986      1987  ...      2011      2012  \\\n",
       "country_code                                          ...                       \n",
       "CA            0.658533  0.668010  0.666255  0.678527  ...  0.869699  0.871182   \n",
       "US            0.998920  0.999223  0.999496  0.999496  ...  1.000000  1.000000   \n",
       "\n",
       "year              2013      2014      2015      2016      2017     2018  \\\n",
       "country_code                                                              \n",
       "CA            0.871803  0.872161  0.878359  0.880573  0.855718  0.75079   \n",
       "US            1.000000  1.000000  1.000000  0.999998  1.000000  1.00000   \n",
       "\n",
       "year              2019  mean_coverage  \n",
       "country_code                           \n",
       "CA            0.807615       0.756748  \n",
       "US            1.000000       0.999718  \n",
       "\n",
       "[2 rows x 43 columns]"
      ]
     },
     "execution_count": 26,
     "metadata": {},
     "output_type": "execute_result"
    }
   ],
   "source": [
    "df_coverage_nonepo.tail(2)"
   ]
  },
  {
   "cell_type": "code",
   "execution_count": 27,
   "metadata": {},
   "outputs": [],
   "source": [
    "fig = utils.plot_heatmap(df_coverage_nonepo.iloc[-15:, :-1]) # we focus on the top 15 and we skip the mean_coverage\n",
    "fig.write_image(\"plots/coverage_nonepo.png\")"
   ]
  },
  {
   "cell_type": "markdown",
   "metadata": {},
   "source": [
    "![](plots/coverage_nonepo.png)"
   ]
  },
  {
   "cell_type": "code",
   "execution_count": 28,
   "metadata": {},
   "outputs": [],
   "source": [
    "fig = utils.plot_bars(df_coverage_nonepo.reset_index().iloc[-30:,:])\n",
    "fig.write_image(\"plots/mean_coverage_nonepo.png\")\n",
    "# Note: just a mean of mean."
   ]
  },
  {
   "cell_type": "markdown",
   "metadata": {},
   "source": [
    "## BigQuery patents-public-data augmented from EPO full text data"
   ]
  },
  {
   "cell_type": "markdown",
   "metadata": {},
   "source": [
    "> Worldwide coverage from families with full-text data from either US or EP full-text dataset"
   ]
  },
  {
   "cell_type": "code",
   "execution_count": 29,
   "metadata": {},
   "outputs": [
    {
     "name": "stdout",
     "output_type": "stream",
     "text": [
      "\u001b[38;5;3m⚠ JOB ERROR: duplicate. This kind of error is usually raised when the\n",
      "destination table already exists. If you want to replace the table, execute the\n",
      "same function with job_config.write_disposition='WRITE_TRUNCATE'. The query will\n",
      "process 0Gb. Otherwise, just use the existing target table. table.\u001b[0m\n"
     ]
    }
   ],
   "source": [
    "destination = client.dataset(dataset).table(\"full_en_fulltext_famid\")\n",
    "job_config = bq.QueryJobConfig(destination=destination)\n",
    "job = queries.safe_query(queries.query_famid_en_fulltext(f\"{project}.{dataset}.epo_fulltext_desc\",\n",
    "                                                  f\"{project}.{dataset}.nonepo_fulltext_famid\"), \n",
    "             client, \n",
    "             job_config=job_config)"
   ]
  },
  {
   "cell_type": "code",
   "execution_count": 30,
   "metadata": {},
   "outputs": [],
   "source": [
    "query = queries.query_nb_fam_with_desc_from_nonepo(f\"{project}.{dataset}.full_en_fulltext_famid\")\n",
    "df_num = client.query(query).to_dataframe()"
   ]
  },
  {
   "cell_type": "code",
   "execution_count": 31,
   "metadata": {},
   "outputs": [],
   "source": [
    "df_coverage_augmented = utils.compute_coverage(df_num, df_denom)"
   ]
  },
  {
   "cell_type": "code",
   "execution_count": 32,
   "metadata": {
    "scrolled": true
   },
   "outputs": [
    {
     "data": {
      "text/html": [
       "<div>\n",
       "<style scoped>\n",
       "    .dataframe tbody tr th:only-of-type {\n",
       "        vertical-align: middle;\n",
       "    }\n",
       "\n",
       "    .dataframe tbody tr th {\n",
       "        vertical-align: top;\n",
       "    }\n",
       "\n",
       "    .dataframe thead th {\n",
       "        text-align: right;\n",
       "    }\n",
       "</style>\n",
       "<table border=\"1\" class=\"dataframe\">\n",
       "  <thead>\n",
       "    <tr style=\"text-align: right;\">\n",
       "      <th>year</th>\n",
       "      <th>1978</th>\n",
       "      <th>1979</th>\n",
       "      <th>1980</th>\n",
       "      <th>1981</th>\n",
       "      <th>1982</th>\n",
       "      <th>1983</th>\n",
       "      <th>1984</th>\n",
       "      <th>1985</th>\n",
       "      <th>1986</th>\n",
       "      <th>1987</th>\n",
       "      <th>...</th>\n",
       "      <th>2011</th>\n",
       "      <th>2012</th>\n",
       "      <th>2013</th>\n",
       "      <th>2014</th>\n",
       "      <th>2015</th>\n",
       "      <th>2016</th>\n",
       "      <th>2017</th>\n",
       "      <th>2018</th>\n",
       "      <th>2019</th>\n",
       "      <th>mean_coverage</th>\n",
       "    </tr>\n",
       "    <tr>\n",
       "      <th>country_code</th>\n",
       "      <th></th>\n",
       "      <th></th>\n",
       "      <th></th>\n",
       "      <th></th>\n",
       "      <th></th>\n",
       "      <th></th>\n",
       "      <th></th>\n",
       "      <th></th>\n",
       "      <th></th>\n",
       "      <th></th>\n",
       "      <th></th>\n",
       "      <th></th>\n",
       "      <th></th>\n",
       "      <th></th>\n",
       "      <th></th>\n",
       "      <th></th>\n",
       "      <th></th>\n",
       "      <th></th>\n",
       "      <th></th>\n",
       "      <th></th>\n",
       "      <th></th>\n",
       "    </tr>\n",
       "  </thead>\n",
       "  <tbody>\n",
       "    <tr>\n",
       "      <th>CA</th>\n",
       "      <td>0.635405</td>\n",
       "      <td>0.648654</td>\n",
       "      <td>0.654337</td>\n",
       "      <td>0.663075</td>\n",
       "      <td>0.677895</td>\n",
       "      <td>0.683654</td>\n",
       "      <td>0.698053</td>\n",
       "      <td>0.713269</td>\n",
       "      <td>0.720587</td>\n",
       "      <td>0.729441</td>\n",
       "      <td>...</td>\n",
       "      <td>0.884016</td>\n",
       "      <td>0.886098</td>\n",
       "      <td>0.886467</td>\n",
       "      <td>0.883615</td>\n",
       "      <td>0.887574</td>\n",
       "      <td>0.890051</td>\n",
       "      <td>0.861394</td>\n",
       "      <td>0.755147</td>\n",
       "      <td>0.81328</td>\n",
       "      <td>0.779960</td>\n",
       "    </tr>\n",
       "    <tr>\n",
       "      <th>US</th>\n",
       "      <td>0.998488</td>\n",
       "      <td>0.998059</td>\n",
       "      <td>0.999131</td>\n",
       "      <td>0.999152</td>\n",
       "      <td>0.999071</td>\n",
       "      <td>0.998915</td>\n",
       "      <td>0.998920</td>\n",
       "      <td>0.999237</td>\n",
       "      <td>0.999496</td>\n",
       "      <td>0.999496</td>\n",
       "      <td>...</td>\n",
       "      <td>1.000000</td>\n",
       "      <td>1.000000</td>\n",
       "      <td>1.000000</td>\n",
       "      <td>1.000000</td>\n",
       "      <td>1.000000</td>\n",
       "      <td>0.999998</td>\n",
       "      <td>1.000000</td>\n",
       "      <td>1.000000</td>\n",
       "      <td>1.00000</td>\n",
       "      <td>0.999723</td>\n",
       "    </tr>\n",
       "  </tbody>\n",
       "</table>\n",
       "<p>2 rows × 43 columns</p>\n",
       "</div>"
      ],
      "text/plain": [
       "year              1978      1979      1980      1981      1982      1983  \\\n",
       "country_code                                                               \n",
       "CA            0.635405  0.648654  0.654337  0.663075  0.677895  0.683654   \n",
       "US            0.998488  0.998059  0.999131  0.999152  0.999071  0.998915   \n",
       "\n",
       "year              1984      1985      1986      1987  ...      2011      2012  \\\n",
       "country_code                                          ...                       \n",
       "CA            0.698053  0.713269  0.720587  0.729441  ...  0.884016  0.886098   \n",
       "US            0.998920  0.999237  0.999496  0.999496  ...  1.000000  1.000000   \n",
       "\n",
       "year              2013      2014      2015      2016      2017      2018  \\\n",
       "country_code                                                               \n",
       "CA            0.886467  0.883615  0.887574  0.890051  0.861394  0.755147   \n",
       "US            1.000000  1.000000  1.000000  0.999998  1.000000  1.000000   \n",
       "\n",
       "year             2019  mean_coverage  \n",
       "country_code                          \n",
       "CA            0.81328       0.779960  \n",
       "US            1.00000       0.999723  \n",
       "\n",
       "[2 rows x 43 columns]"
      ]
     },
     "execution_count": 32,
     "metadata": {},
     "output_type": "execute_result"
    }
   ],
   "source": [
    "df_coverage_augmented.tail(2)"
   ]
  },
  {
   "cell_type": "code",
   "execution_count": 33,
   "metadata": {},
   "outputs": [],
   "source": [
    "fig = utils.plot_heatmap(df_coverage_augmented.iloc[-15:, :-1]) # we focus on the top 15 and we skip the mean_coverage\n",
    "fig.write_image(\"plots/coverage_augmented.png\")"
   ]
  },
  {
   "cell_type": "markdown",
   "metadata": {},
   "source": [
    "![](plots/coverage_augmented.png)"
   ]
  },
  {
   "cell_type": "code",
   "execution_count": 34,
   "metadata": {},
   "outputs": [],
   "source": [
    "fig = utils.plot_bars(df_coverage_augmented.reset_index().iloc[-30:,:])\n",
    "fig.write_image(\"plots/mean_coverage_augmented.png\")\n",
    "# Note: just a mean of mean."
   ]
  },
  {
   "cell_type": "markdown",
   "metadata": {},
   "source": [
    "**Baseline, EP full-text data adds ~175 000 families to the set of patent families with english full-text description.**"
   ]
  }
 ],
 "metadata": {
  "kernelspec": {
   "display_name": "parseepo",
   "language": "python",
   "name": "parseepo"
  },
  "language_info": {
   "codemirror_mode": {
    "name": "ipython",
    "version": 3
   },
   "file_extension": ".py",
   "mimetype": "text/x-python",
   "name": "python",
   "nbconvert_exporter": "python",
   "pygments_lexer": "ipython3",
   "version": "3.7.0"
  },
  "latex_envs": {
   "LaTeX_envs_menu_present": true,
   "autoclose": false,
   "autocomplete": true,
   "bibliofile": "biblio.bib",
   "cite_by": "apalike",
   "current_citInitial": 1,
   "eqLabelWithNumbers": true,
   "eqNumInitial": 1,
   "hotkeys": {
    "equation": "Ctrl-E",
    "itemize": "Ctrl-I"
   },
   "labels_anchors": false,
   "latex_user_defs": false,
   "report_style_numbering": false,
   "user_envs_cfg": false
  },
  "pycharm": {
   "stem_cell": {
    "cell_type": "raw",
    "metadata": {
     "collapsed": false
    },
    "source": []
   }
  },
  "toc": {
   "base_numbering": 1,
   "nav_menu": {},
   "number_sections": true,
   "sideBar": true,
   "skip_h1_title": false,
   "title_cell": "Table of Contents",
   "title_sidebar": "Contents",
   "toc_cell": false,
   "toc_position": {},
   "toc_section_display": true,
   "toc_window_display": false
  }
 },
 "nbformat": 4,
 "nbformat_minor": 1
}
